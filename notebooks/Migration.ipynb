{
 "cells": [
  {
   "cell_type": "code",
   "execution_count": 1,
   "metadata": {},
   "outputs": [],
   "source": [
    "import os\n",
    "import sys\n",
    "import numpy as np\n",
    "module_path = os.path.abspath(os.path.join('..'))\n",
    "if module_path not in sys.path:\n",
    "    sys.path.append(module_path)\n",
    "from loaders.dataset_loader import WindowStepDataLoader\n"
   ]
  },
  {
   "cell_type": "code",
   "execution_count": 18,
   "metadata": {},
   "outputs": [
    {
     "name": "stdout",
     "output_type": "stream",
     "text": [
      "7 / 7 files loaded currently at: PDIoT_I_Juan-Walk-Wrist-30.csv\n",
      "['Walking level ground', 'Wrist', 'Left', 'Body']\n",
      "......................................................................"
     ]
    }
   ],
   "source": [
    "position = \"Wrist\"\n",
    "save_position = position\n",
    "columns = ['accel_x', 'accel_y', 'accel_z','gyro_x','gyro_y','gyro_z']\n",
    "\n",
    "step_loader_train = WindowStepDataLoader(100, '../data/train/', columns)\n",
    "step_loader_test = WindowStepDataLoader(100, '../data/test/', columns)\n",
    "\n",
    "step_loader_train.load_dataset(sensor_position=position)\n",
    "step_loader_train.save_dataset(save_position+\"_train\")\n",
    "step_loader_test.load_dataset(sensor_position=position)\n",
    "step_loader_test.save_dataset(save_position+\"_test\")"
   ]
  },
  {
   "cell_type": "code",
   "execution_count": null,
   "metadata": {},
   "outputs": [],
   "source": []
  }
 ],
 "metadata": {
  "kernelspec": {
   "display_name": "Python 3",
   "language": "python",
   "name": "python3"
  },
  "language_info": {
   "codemirror_mode": {
    "name": "ipython",
    "version": 3
   },
   "file_extension": ".py",
   "mimetype": "text/x-python",
   "name": "python",
   "nbconvert_exporter": "python",
   "pygments_lexer": "ipython3",
   "version": "3.7.2"
  }
 },
 "nbformat": 4,
 "nbformat_minor": 2
}
