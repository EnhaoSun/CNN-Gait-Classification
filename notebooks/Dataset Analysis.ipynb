{
 "cells": [
  {
   "cell_type": "code",
   "execution_count": 2,
   "metadata": {},
   "outputs": [],
   "source": [
    "import numpy as np\n",
    "import matplotlib.pyplot as plt\n",
    "import os\n",
    "import sys\n",
    "import re\n",
    "from collections import Counter"
   ]
  },
  {
   "cell_type": "code",
   "execution_count": 4,
   "metadata": {},
   "outputs": [],
   "source": [
    "def get_target(filename, line_number):\n",
    "        return re.sub(\n",
    "            '[^a-zA-Z ]+',\n",
    "            '',\n",
    "            get_line(filename, line_number).split(\":\")[1].strip()\n",
    "        )\n",
    "def get_steps(filename):\n",
    "        return re.sub(\n",
    "            '[a-zA-Z,\"]+',\n",
    "            '',\n",
    "            get_line(filename, 8).split(\":\")[1].strip()\n",
    "        )\n",
    "\n",
    "def get_line(filename, line_number):\n",
    "    with open(filename) as f:\n",
    "        file_header = [next(f).rstrip().split('# ')[1] for x in range(10)]\n",
    "        return file_header[line_number]"
   ]
  },
  {
   "cell_type": "code",
   "execution_count": 31,
   "metadata": {},
   "outputs": [
    {
     "name": "stdout",
     "output_type": "stream",
     "text": [
      "57\n",
      "Counter({'Climbing stairs': 160, 'Walking level ground': 160, 'Descending stairs': 130, 'Running': 100})\n"
     ]
    }
   ],
   "source": [
    "\n",
    "bag = []\n",
    "counter = Counter()\n",
    "nr_of_files = len(os.listdir('../data/'))\n",
    "print(nr_of_files)\n",
    "for file_index, file in enumerate(os.listdir('../data/')):\n",
    "    if file.endswith('.csv'):\n",
    "        file_path = '../data/' + file\n",
    "        for i in range(0, int(get_steps(file_path))):\n",
    "            bag.append(get_target(file_path, 4))\n",
    "            if file_index / nr_of_files > 0.8:\n",
    "                counter[get_target(file_path, 4)] += 1\n",
    "\n",
    "\n",
    "print(counter)"
   ]
  },
  {
   "cell_type": "code",
   "execution_count": 5,
   "metadata": {},
   "outputs": [
    {
     "data": {
      "text/plain": [
       "{'Upper Leg': 0,\n",
       " 'Torso': 1,\n",
       " 'Lower Leg': 2,\n",
       " 'Wrist': 3,\n",
       " 'Foot': 4,\n",
       " 'Upper arm': 5}"
      ]
     },
     "execution_count": 5,
     "metadata": {},
     "output_type": "execute_result"
    }
   ],
   "source": [
    "targets = []\n",
    "for file_index, file in enumerate(os.listdir('../data/')):\n",
    "    if file.endswith('.csv'):\n",
    "        file_path = '../data/' + file\n",
    "        targets.append(get_target(file_path, 5))\n",
    "uniques = list(set(targets))\n",
    "dict(zip(uniques, range(0, len(uniques))))"
   ]
  },
  {
   "cell_type": "code",
   "execution_count": null,
   "metadata": {},
   "outputs": [],
   "source": []
  }
 ],
 "metadata": {
  "kernelspec": {
   "display_name": "Python 3",
   "language": "python",
   "name": "python3"
  },
  "language_info": {
   "codemirror_mode": {
    "name": "ipython",
    "version": 3
   },
   "file_extension": ".py",
   "mimetype": "text/x-python",
   "name": "python",
   "nbconvert_exporter": "python",
   "pygments_lexer": "ipython3",
   "version": "3.6.5"
  }
 },
 "nbformat": 4,
 "nbformat_minor": 2
}
