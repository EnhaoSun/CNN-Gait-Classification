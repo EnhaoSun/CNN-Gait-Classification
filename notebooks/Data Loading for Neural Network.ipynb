{
 "cells": [
  {
   "cell_type": "code",
   "execution_count": 1,
   "metadata": {},
   "outputs": [
    {
     "name": "stderr",
     "output_type": "stream",
     "text": [
      "/usr/local/Cellar/python/3.6.5_1/Frameworks/Python.framework/Versions/3.6/lib/python3.6/importlib/_bootstrap.py:219: RuntimeWarning: numpy.dtype size changed, may indicate binary incompatibility. Expected 96, got 88\n",
      "  return f(*args, **kwds)\n",
      "/usr/local/Cellar/python/3.6.5_1/Frameworks/Python.framework/Versions/3.6/lib/python3.6/importlib/_bootstrap.py:219: RuntimeWarning: numpy.dtype size changed, may indicate binary incompatibility. Expected 96, got 88\n",
      "  return f(*args, **kwds)\n"
     ]
    }
   ],
   "source": [
    "import pandas as pd\n",
    "import numpy as np\n",
    "import matplotlib.pyplot as plt\n",
    "import os\n",
    "import random\n",
    "import sys\n",
    "import re\n",
    "from IPython.display import clear_output"
   ]
  },
  {
   "cell_type": "code",
   "execution_count": 2,
   "metadata": {},
   "outputs": [
    {
     "name": "stdout",
     "output_type": "stream",
     "text": [
      "126 / 126 files loaded currently at: Group C - Santi Descending, 30, Wrist Right.csv\n",
      ".............................................................................."
     ]
    }
   ],
   "source": [
    "usecols=['accel_x', 'accel_y', 'accel_z','gyro_x', 'gyro_y', 'gyro_z']\n",
    "\n",
    "def get_line(filename, line_number):\n",
    "        with open(filename) as f:\n",
    "            file_header = [next(f).rstrip().split('# ')[1].split(':') for x in range(10)]\n",
    "            return re.sub(r\"\\W+\", '', file_header[line_number][1])\n",
    "\n",
    "\n",
    "directory = '../data/'\n",
    "data = []\n",
    "targets = []\n",
    "window_size = 30\n",
    "\n",
    "total_length = len(os.listdir(directory))\n",
    "\n",
    "for file_index, file in enumerate(os.listdir(directory)):\n",
    "    clear_output(wait=True)    \n",
    "    print(\"%d / %d files loaded currently at: %s\" % (file_index + 1, total_length, file))\n",
    "    if file.endswith('.csv'):\n",
    "        file_path = directory+file\n",
    "        activity = get_line(file_path, 4)\n",
    "        position = get_line(file_path, 5)\n",
    "        body_side = get_line(file_path, 6)\n",
    "        sensor_mounting = get_line(file_path, 7)\n",
    "        \n",
    "        df = pd.read_csv(file_path, header=11, usecols=usecols)\n",
    "        nr_rows = len(df.index)\n",
    "        for index, row in df.iterrows():\n",
    "            if (index % (nr_rows // 75) == 0):\n",
    "                sys.stdout.write('.')\n",
    "            window = df.iloc[index:index+30].values.flatten().tolist()\n",
    "            target  = [activity, position, body_side, sensor_mounting]\n",
    "            if len(window) != 180:\n",
    "                break\n",
    "            targets.append(target)\n",
    "            data.append(window)"
   ]
  },
  {
   "cell_type": "code",
   "execution_count": 3,
   "metadata": {},
   "outputs": [
    {
     "name": "stdout",
     "output_type": "stream",
     "text": [
      "(211971, 180) (211971, 4)\n"
     ]
    }
   ],
   "source": [
    "data_array = np.array(data)\n",
    "targets_array = np.array(targets)\n",
    "print(data_array.shape, targets_array.shape)"
   ]
  },
  {
   "cell_type": "code",
   "execution_count": null,
   "metadata": {},
   "outputs": [],
   "source": []
  }
 ],
 "metadata": {
  "kernelspec": {
   "display_name": "Python 3",
   "language": "python",
   "name": "python3"
  },
  "language_info": {
   "codemirror_mode": {
    "name": "ipython",
    "version": 3
   },
   "file_extension": ".py",
   "mimetype": "text/x-python",
   "name": "python",
   "nbconvert_exporter": "python",
   "pygments_lexer": "ipython3",
   "version": "3.6.5"
  }
 },
 "nbformat": 4,
 "nbformat_minor": 2
}
