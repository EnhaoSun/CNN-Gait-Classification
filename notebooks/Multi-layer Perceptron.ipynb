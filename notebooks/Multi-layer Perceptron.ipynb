{
 "cells": [
  {
   "cell_type": "code",
   "execution_count": 1,
   "metadata": {},
   "outputs": [],
   "source": [
    "from sklearn.neural_network import MLPClassifier\n",
    "from sklearn import metrics\n",
    "import numpy as np\n",
    "from collections import Counter\n",
    "from sklearn.externals import joblib\n",
    "from sklearn.model_selection import KFold\n",
    "import graphviz\n",
    "import matplotlib.pyplot as plt"
   ]
  },
  {
   "cell_type": "code",
   "execution_count": 2,
   "metadata": {},
   "outputs": [],
   "source": [
    "def load(which_set, shuffel_order=True, rng=None):\n",
    "    data_path = \"../processed_data/data/\"+which_set+\".npy\"\n",
    "    targets_path = \"../processed_data/targets/\" + which_set + \".npy\"\n",
    "    inputs = np.load(data_path)\n",
    "    targets = np.load(targets_path)\n",
    "\n",
    "    # get only the activity targets and encode them in ints\n",
    "    targets = to_int_targets(targets.T[0].T)\n",
    "\n",
    "    print(targets)\n",
    "    # one-hot encode the targets\n",
    "    permutation = np.random.permutation(inputs.shape[0])\n",
    "    inputs = inputs[permutation]\n",
    "    targets = targets[permutation]\n",
    "    return inputs, targets\n",
    "\n",
    "def to_one_of_k(targets):\n",
    "    unique_targets = list(set(targets[:,].tolist()))\n",
    "    encoding = dict(zip(unique_targets, range(0, len(unique_targets))))\n",
    "    int_targets = [encoding[i] for i in targets.tolist()]\n",
    "    one_of_k_targets = np.zeros((len(int_targets), 4)).astype(int)\n",
    "    one_of_k_targets[range(len(int_targets)), int_targets] = 1\n",
    "    return one_of_k_targets\n",
    "\n",
    "def to_int_targets(targets):\n",
    "        unique_targets = list(set(targets.tolist()))\n",
    "        unique_targets.sort();\n",
    "        encoding = dict(zip(unique_targets, range(0, len(unique_targets))))\n",
    "        return np.array([encoding[i] for i in targets.tolist()])"
   ]
  },
  {
   "cell_type": "markdown",
   "metadata": {},
   "source": [
    "# Load training data"
   ]
  },
  {
   "cell_type": "code",
   "execution_count": 7,
   "metadata": {},
   "outputs": [
    {
     "name": "stdout",
     "output_type": "stream",
     "text": [
      "[0 0 0 ... 2 2 2]\n",
      "Number of training data: (15927, 600)\n",
      "Counter({3: 5349, 0: 3933, 2: 3809, 1: 2836})\n"
     ]
    }
   ],
   "source": [
    "position = \"Wrist\"\n",
    "seed = 6102016 \n",
    "rng = np.random.RandomState(seed)\n",
    "X, y= load(position+'_train', rng=rng)\n",
    "print(\"Number of training data: \" + str(X.shape))\n",
    "c = Counter(y)\n",
    "print(c)"
   ]
  },
  {
   "cell_type": "markdown",
   "metadata": {},
   "source": [
    "# Train neural network"
   ]
  },
  {
   "cell_type": "code",
   "execution_count": 8,
   "metadata": {
    "scrolled": true
   },
   "outputs": [
    {
     "name": "stdout",
     "output_type": "stream",
     "text": [
      "Iteration 1, loss = 1.77190785\n",
      "Validation score: 0.823013\n",
      "Iteration 2, loss = 0.30340351\n",
      "Validation score: 0.908368\n",
      "Iteration 3, loss = 0.17481184\n",
      "Validation score: 0.931799\n",
      "Iteration 4, loss = 0.13649643\n",
      "Validation score: 0.944351\n",
      "Iteration 5, loss = 0.14005708\n",
      "Validation score: 0.946025\n",
      "Iteration 6, loss = 0.10623296\n",
      "Validation score: 0.957741\n",
      "Iteration 7, loss = 0.09470730\n",
      "Validation score: 0.963598\n",
      "Iteration 8, loss = 0.05663152\n",
      "Validation score: 0.978661\n",
      "Iteration 9, loss = 0.02713921\n",
      "Validation score: 0.979498\n",
      "Iteration 10, loss = 0.05860011\n",
      "Validation score: 0.956485\n",
      "Iteration 11, loss = 0.17334750\n",
      "Validation score: 0.956485\n",
      "Iteration 12, loss = 0.06330216\n",
      "Validation score: 0.977824\n",
      "Iteration 13, loss = 0.05347604\n",
      "Validation score: 0.970293\n",
      "Iteration 14, loss = 0.05084628\n",
      "Validation score: 0.971548\n",
      "Iteration 15, loss = 0.08889319\n",
      "Validation score: 0.954393\n",
      "Iteration 16, loss = 0.07656663\n",
      "Validation score: 0.987448\n",
      "Iteration 17, loss = 0.02275354\n",
      "Validation score: 0.992050\n",
      "Iteration 18, loss = 0.04151934\n",
      "Validation score: 0.987029\n",
      "Iteration 19, loss = 0.04891774\n",
      "Validation score: 0.982845\n",
      "Iteration 20, loss = 0.07000467\n",
      "Validation score: 0.984519\n",
      "Iteration 21, loss = 0.03056048\n",
      "Validation score: 0.989540\n",
      "Iteration 22, loss = 0.01864229\n",
      "Validation score: 0.994979\n",
      "Iteration 23, loss = 0.02105787\n",
      "Validation score: 0.991632\n",
      "Iteration 24, loss = 0.01445669\n",
      "Validation score: 0.992469\n",
      "Iteration 25, loss = 0.02411751\n",
      "Validation score: 0.982008\n",
      "Iteration 26, loss = 0.07103773\n",
      "Validation score: 0.980753\n",
      "Iteration 27, loss = 0.21800708\n",
      "Validation score: 0.867782\n",
      "Iteration 28, loss = 0.23131199\n",
      "Validation score: 0.974895\n",
      "Iteration 29, loss = 0.14178293\n",
      "Validation score: 0.936820\n",
      "Iteration 30, loss = 0.20827768\n",
      "Validation score: 0.944770\n",
      "Iteration 31, loss = 0.10275455\n",
      "Validation score: 0.981590\n",
      "Iteration 32, loss = 0.04099916\n",
      "Validation score: 0.991213\n",
      "Iteration 33, loss = 0.02692366\n",
      "Validation score: 0.992469\n",
      "Validation score did not improve more than tol=0.001000 for 10 consecutive epochs. Stopping.\n"
     ]
    },
    {
     "data": {
      "text/plain": [
       "MLPClassifier(activation='relu', alpha=0.0001, batch_size=100, beta_1=0.9,\n",
       "       beta_2=0.999, early_stopping=True, epsilon=1e-08,\n",
       "       hidden_layer_sizes=(25, 25, 25), learning_rate='constant',\n",
       "       learning_rate_init=0.009, max_iter=100, momentum=0.9,\n",
       "       n_iter_no_change=10, nesterovs_momentum=True, power_t=0.5,\n",
       "       random_state=None, shuffle=False, solver='adam', tol=0.001,\n",
       "       validation_fraction=0.15, verbose=True, warm_start=True)"
      ]
     },
     "execution_count": 8,
     "metadata": {},
     "output_type": "execute_result"
    }
   ],
   "source": [
    "units = 25\n",
    "clf = MLPClassifier(hidden_layer_sizes=(units, units, units), activation = 'relu', alpha=1e-4,\n",
    "                            solver='adam', batch_size=100, learning_rate_init=0.009,\n",
    "                            warm_start=True,max_iter=100, shuffle=False,validation_fraction=0.15, tol=1e-3,verbose=True, early_stopping=True)\n",
    "\n",
    "clf.fit(X, y)"
   ]
  },
  {
   "cell_type": "markdown",
   "metadata": {},
   "source": [
    "# Learning curve"
   ]
  },
  {
   "cell_type": "code",
   "execution_count": 9,
   "metadata": {},
   "outputs": [
    {
     "data": {
      "text/plain": [
       "[<matplotlib.lines.Line2D at 0x133d685c0>]"
      ]
     },
     "execution_count": 9,
     "metadata": {},
     "output_type": "execute_result"
    },
    {
     "data": {
      "image/png": "[encoded data removed]",
      "text/plain": [
       "<Figure size 432x288 with 1 Axes>"
      ]
     },
     "metadata": {
      "needs_background": "light"
     },
     "output_type": "display_data"
    }
   ],
   "source": [
    "loss = clf.loss_curve_\n",
    "plt.plot(loss, label=\"adam\")"
   ]
  },
  {
   "cell_type": "markdown",
   "metadata": {},
   "source": [
    "# Testing neural network"
   ]
  },
  {
   "cell_type": "code",
   "execution_count": 22,
   "metadata": {
    "scrolled": true
   },
   "outputs": [
    {
     "name": "stdout",
     "output_type": "stream",
     "text": [
      "[0 0 0 ... 1 1 1]\n",
      "Number of test data: (3258, 600)\n",
      "F1 score: 0.937668072822694\n",
      "Confusion Matrix\n",
      "[[658   0   0  75]\n",
      " [  0 762   0  20]\n",
      " [  0  18 849  21]\n",
      " [ 51  17   0 787]]\n"
     ]
    }
   ],
   "source": [
    "test_x, test_y= load(position+'_test', rng=rng)\n",
    "y_true = test_y\n",
    "y_pre = clf.predict(test_x)\n",
    "print(\"Number of test data: \" + str(test_x.shape))\n",
    "\n",
    "f1 = (metrics.f1_score(y_true, y_pre, average=None)).tolist()\n",
    "print(\"F1 score: \" + str(np.mean(f1)))\n",
    "conf = metrics.confusion_matrix(y_true=y_true, y_pred=y_pre)\n",
    "print(\"Confusion Matrix\")\n",
    "print(conf)"
   ]
  },
  {
   "cell_type": "markdown",
   "metadata": {},
   "source": [
    "# Exporting parameters"
   ]
  },
  {
   "cell_type": "code",
   "execution_count": 6,
   "metadata": {},
   "outputs": [
    {
     "name": "stdout",
     "output_type": "stream",
     "text": [
      "(600, 25)\n",
      "(25, 25)\n",
      "(25, 25)\n",
      "(25, 4)\n"
     ]
    }
   ],
   "source": [
    "para = clf.coefs_\n",
    "para = np.asarray(para)\n",
    "print(para[0].shape)\n",
    "print(para[1].shape)\n",
    "print(para[2].shape)\n",
    "print(para[3].shape)\n",
    "np.savetxt('para_wrist_L_0.csv', para[0],delimiter=\",\")\n",
    "np.savetxt('para_wrist_L_1.csv', para[1],delimiter=\",\")\n",
    "np.savetxt('para_wrist_L_2.csv', para[2],delimiter=\",\")\n",
    "np.savetxt('para_wrist_L_3.csv', para[3],delimiter=\",\")"
   ]
  },
  {
   "cell_type": "code",
   "execution_count": null,
   "metadata": {},
   "outputs": [],
   "source": []
  }
 ],
 "metadata": {
  "kernelspec": {
   "display_name": "Python 3",
   "language": "python",
   "name": "python3"
  },
  "language_info": {
   "codemirror_mode": {
    "name": "ipython",
    "version": 3
   },
   "file_extension": ".py",
   "mimetype": "text/x-python",
   "name": "python",
   "nbconvert_exporter": "python",
   "pygments_lexer": "ipython3",
   "version": "3.7.2"
  }
 },
 "nbformat": 4,
 "nbformat_minor": 2
}
